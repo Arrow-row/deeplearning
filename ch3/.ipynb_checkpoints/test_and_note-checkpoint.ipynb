{
 "cells": [
  {
   "cell_type": "markdown",
   "id": "491371d7",
   "metadata": {},
   "source": [
    "#### range/arange\n",
    "\n",
    "ref:https://pythontechworld.com/article/detail/gpZ9LvS992SG"
   ]
  },
  {
   "cell_type": "code",
   "execution_count": 3,
   "id": "33cde190",
   "metadata": {},
   "outputs": [
    {
     "name": "stdout",
     "output_type": "stream",
     "text": [
      "<class 'range'>\n"
     ]
    }
   ],
   "source": [
    "a=range(4)\n",
    "a\n",
    "print(type(a))"
   ]
  },
  {
   "cell_type": "code",
   "execution_count": 2,
   "id": "05048560",
   "metadata": {},
   "outputs": [
    {
     "data": {
      "text/plain": [
       "[0, 1, 2, 3]"
      ]
     },
     "execution_count": 2,
     "metadata": {},
     "output_type": "execute_result"
    }
   ],
   "source": [
    "b=list(range(4))\n",
    "b"
   ]
  },
  {
   "cell_type": "markdown",
   "id": "dd6827d0",
   "metadata": {},
   "source": [
    "#### random.shuffle"
   ]
  },
  {
   "cell_type": "code",
   "execution_count": null,
   "id": "1896b3ee",
   "metadata": {},
   "outputs": [],
   "source": []
  }
 ],
 "metadata": {
  "kernelspec": {
   "display_name": "Python 3 (ipykernel)",
   "language": "python",
   "name": "python3"
  },
  "language_info": {
   "codemirror_mode": {
    "name": "ipython",
    "version": 3
   },
   "file_extension": ".py",
   "mimetype": "text/x-python",
   "name": "python",
   "nbconvert_exporter": "python",
   "pygments_lexer": "ipython3",
   "version": "3.9.12"
  }
 },
 "nbformat": 4,
 "nbformat_minor": 5
}
