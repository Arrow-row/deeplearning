{
 "cells": [
  {
   "cell_type": "markdown",
   "id": "1532ee65",
   "metadata": {},
   "source": [
    "#### range/arange\n",
    "\n",
    "ref:https://pythontechworld.com/article/detail/gpZ9LvS992SG"
   ]
  },
  {
   "cell_type": "code",
   "execution_count": 3,
   "id": "060a4bad",
   "metadata": {},
   "outputs": [
    {
     "name": "stdout",
     "output_type": "stream",
     "text": [
      "<class 'range'>\n"
     ]
    }
   ],
   "source": [
    "a=range(4)\n",
    "a\n",
    "print(type(a))"
   ]
  },
  {
   "cell_type": "code",
   "execution_count": 2,
   "id": "54bcb0c8",
   "metadata": {},
   "outputs": [
    {
     "data": {
      "text/plain": [
       "[0, 1, 2, 3]"
      ]
     },
     "execution_count": 2,
     "metadata": {},
     "output_type": "execute_result"
    }
   ],
   "source": [
    "b=list(range(4))\n",
    "b"
   ]
  },
  {
   "cell_type": "markdown",
   "id": "e9378fa7",
   "metadata": {},
   "source": [
    "#### random.shuffle\n",
    "\n",
    "将序列的所有元素随机排序\n",
    "\n",
    "ref:https://www.runoob.com/python3/python3-func-number-shuffle.html"
   ]
  },
  {
   "cell_type": "markdown",
   "id": "e477d228",
   "metadata": {},
   "source": [
    "#### yield"
   ]
  }
 ],
 "metadata": {
  "kernelspec": {
   "display_name": "Python 3 (ipykernel)",
   "language": "python",
   "name": "python3"
  },
  "language_info": {
   "codemirror_mode": {
    "name": "ipython",
    "version": 3
   },
   "file_extension": ".py",
   "mimetype": "text/x-python",
   "name": "python",
   "nbconvert_exporter": "python",
   "pygments_lexer": "ipython3",
   "version": "3.9.12"
  }
 },
 "nbformat": 4,
 "nbformat_minor": 5
}
